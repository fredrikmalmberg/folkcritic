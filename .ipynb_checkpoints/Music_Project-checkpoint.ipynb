{
  "nbformat": 4,
  "nbformat_minor": 0,
  "metadata": {
    "colab": {
      "name": "Music Project.ipynb",
      "provenance": [],
      "collapsed_sections": []
    },
    "kernelspec": {
      "name": "python3",
      "display_name": "Python 3"
    }
  },
  "cells": [
    {
      "cell_type": "code",
      "metadata": {
        "id": "DPG6YcGZIvmW",
        "outputId": "9631a8f8-d273-4f30-d7b9-d247e77eaf4e",
        "colab": {
          "base_uri": "https://localhost:8080/"
        }
      },
      "source": [
        "!which python"
      ],
      "execution_count": null,
      "outputs": [
        {
          "output_type": "stream",
          "text": [
            "/usr/local/bin/python\n"
          ],
          "name": "stdout"
        }
      ]
    },
    {
      "cell_type": "code",
      "metadata": {
        "id": "XJ52TlbBI4ZZ",
        "outputId": "7c333de9-86c0-4ccc-8490-dc198deb8183",
        "colab": {
          "base_uri": "https://localhost:8080/"
        }
      },
      "source": [
        "!git clone https://github.com/IraKorshunova/folk-rnn.git"
      ],
      "execution_count": null,
      "outputs": [
        {
          "output_type": "stream",
          "text": [
            "Cloning into 'folk-rnn'...\n",
            "remote: Enumerating objects: 611, done.\u001b[K\n",
            "remote: Total 611 (delta 0), reused 0 (delta 0), pack-reused 611\u001b[K\n",
            "Receiving objects: 100% (611/611), 118.51 MiB | 31.93 MiB/s, done.\n",
            "Resolving deltas: 100% (342/342), done.\n"
          ],
          "name": "stdout"
        }
      ]
    },
    {
      "cell_type": "code",
      "metadata": {
        "id": "cw6mA98mI7X_",
        "outputId": "b62fc4fa-5c73-49db-f5a1-56cfea3300f1",
        "colab": {
          "base_uri": "https://localhost:8080/"
        }
      },
      "source": [
        "!pip install --upgrade https://github.com/Theano/Theano/archive/master.zip"
      ],
      "execution_count": null,
      "outputs": [
        {
          "output_type": "stream",
          "text": [
            "Collecting https://github.com/Theano/Theano/archive/master.zip\n",
            "\u001b[?25l  Downloading https://github.com/Theano/Theano/archive/master.zip\n",
            "\u001b[K     \\ 26.7MB 568kB/s\n",
            "\u001b[?25hRequirement already satisfied, skipping upgrade: numpy>=1.9.1 in /usr/local/lib/python3.6/dist-packages (from Theano==1.0.5+unknown) (1.18.5)\n",
            "Requirement already satisfied, skipping upgrade: scipy>=0.14 in /usr/local/lib/python3.6/dist-packages (from Theano==1.0.5+unknown) (1.4.1)\n",
            "Requirement already satisfied, skipping upgrade: six>=1.9.0 in /usr/local/lib/python3.6/dist-packages (from Theano==1.0.5+unknown) (1.15.0)\n",
            "Building wheels for collected packages: Theano\n",
            "  Building wheel for Theano (setup.py) ... \u001b[?25l\u001b[?25hdone\n",
            "  Created wheel for Theano: filename=Theano-1.0.5+unknown-cp36-none-any.whl size=2667284 sha256=132d13c686061e014efb435859a029f186bbcd65794853720812b0c1e07237c3\n",
            "  Stored in directory: /tmp/pip-ephem-wheel-cache-nh4ajx96/wheels/33/73/96/0ed263c62a86e2485ea634e0d3ae8169d50fd66e3b252541db\n",
            "Successfully built Theano\n",
            "Installing collected packages: Theano\n",
            "  Found existing installation: Theano 1.0.5\n",
            "    Uninstalling Theano-1.0.5:\n",
            "      Successfully uninstalled Theano-1.0.5\n",
            "Successfully installed Theano-1.0.5+unknown\n"
          ],
          "name": "stdout"
        }
      ]
    },
    {
      "cell_type": "code",
      "metadata": {
        "id": "wOCL8Gq_KYtv",
        "outputId": "13229d04-5b11-4274-e722-d52c0c78fe01",
        "colab": {
          "base_uri": "https://localhost:8080/"
        }
      },
      "source": [
        "!pip install --upgrade https://github.com/Lasagne/Lasagne/archive/master.zip"
      ],
      "execution_count": null,
      "outputs": [
        {
          "output_type": "stream",
          "text": [
            "Collecting https://github.com/Lasagne/Lasagne/archive/master.zip\n",
            "\u001b[?25l  Downloading https://github.com/Lasagne/Lasagne/archive/master.zip\n",
            "\u001b[K     / 983kB 6.6MB/s\n",
            "\u001b[?25hRequirement already satisfied, skipping upgrade: numpy in /usr/local/lib/python3.6/dist-packages (from Lasagne==0.2.dev1) (1.18.5)\n",
            "Building wheels for collected packages: Lasagne\n",
            "  Building wheel for Lasagne (setup.py) ... \u001b[?25l\u001b[?25hdone\n",
            "  Created wheel for Lasagne: filename=Lasagne-0.2.dev1-cp36-none-any.whl size=122797 sha256=375b83a209f0c172072a54493092d44124a992b2ee4388d23ceb0669ac19e6f3\n",
            "  Stored in directory: /tmp/pip-ephem-wheel-cache-zrfx_uxo/wheels/ca/4a/00/87f1777b229481fe76562df7c0cfb993bc88ed0cc37e3f0ed4\n",
            "Successfully built Lasagne\n",
            "Installing collected packages: Lasagne\n",
            "Successfully installed Lasagne-0.2.dev1\n"
          ],
          "name": "stdout"
        }
      ]
    },
    {
      "cell_type": "code",
      "metadata": {
        "id": "uQKUW6TeKiM_",
        "outputId": "b55aa40f-dbc5-492c-ab7f-8194324009e0",
        "colab": {
          "base_uri": "https://localhost:8080/"
        }
      },
      "source": [
        "!python folk-rnn/sample_rnn.py --terminal folk-rnn/metadata/folkrnn_v2.pkl"
      ],
      "execution_count": 56,
      "outputs": [
        {
          "output_type": "stream",
          "text": [
            "token2idx is: {b\"d'\": 0, b'=A,': 1, b\"^c'\": 2, b'=e': 3, b'=d': 4, b'=g': 5, b'=f': 6, b'=a': 7, b'=c': 8, b'=b': 9, b'_G': 10, b'_E': 11, b'_D': 12, b'_C': 13, b'_B': 14, b'_A': 15, b'2<': 16, b'2>': 17, b'=E': 18, b'=D': 19, b'_B,': 20, b'=F': 21, b'=A': 22, b'4': 23, b'=C': 24, b'=B': 25, b'_g': 26, b'8': 27, b'_e': 28, b'_d': 29, b'_c': 30, b'<': 31, b'_a': 32, b'(9': 33, b'|2': 34, b'D': 35, b'|1': 36, b'(2': 37, b'(3': 38, b'|:': 39, b'(7': 40, b'(4': 41, b'(5': 42, b':|': 43, b'M:3/4': 109, b'3/2': 45, b'3/4': 46, b\"=f'\": 47, b'2': 48, b'd': 49, b'_E,': 50, b'B,': 51, b'f': 94, b'|': 53, b'^A,': 54, b\"b'\": 55, b\"_e'\": 56, b'M:9/8': 57, b'E,': 58, b'</s>': 59, b'3': 60, b'7': 61, b'^F,': 62, b'=G,': 63, b'C': 64, b'G': 65, b\"e'\": 66, b\"_d'\": 67, b\"^f'\": 68, b'[': 69, b'c': 71, b'_A,': 97, b'g': 73, b'^G,': 74, b'=F,': 75, b'K:Cmin': 76, b'K:Cmix': 77, b\"=c'\": 78, b'C,': 79, b'<s>': 80, b'^D': 119, b'=G': 82, b'M:12/8': 83, b'6': 84, b'=E,': 85, b'K:Cmaj': 86, b'>': 87, b'B': 88, b'F': 89, b\"c'\": 90, b'^c': 132, b'e': 126, b'5/2': 92, b'b': 70, b'16': 52, b\"=e'\": 95, b'_b': 96, b'z': 72, b'F,': 98, b'/2>': 99, b'/2<': 100, b\"f'\": 101, b'M:6/8': 102, b'4>': 103, b'M:4/4': 104, b'A,': 105, b'M:2/4': 106, b'=C,': 107, b'5': 108, b'9': 44, b'M:3/2': 111, b'K:Cdor': 112, b'A': 113, b'E': 114, b\"a'\": 115, b'(6': 116, b'^A': 117, b'^C': 118, b']': 81, b'^F': 120, b'^G': 121, b'a': 122, b\"g'\": 123, b'D,': 124, b'/4': 125, b'^C,': 91, b'^d': 133, b'7/2': 128, b'=B,': 129, b'G,': 93, b'/8': 130, b'^a': 131, b'12': 110, b'/3': 127, b'/2': 134, b'^f': 135, b'^g': 136}\n",
            "Building the model\n",
            "folk-rnn/sample_rnn.py:81: UserWarning: DEPRECATION: If x is a vector, Softmax will not automatically pad x anymore in next releases. If you need it, please do it manually. The vector case is gonna be supported soon and the output will be a vector.\n",
            "  predictions = T.nnet.softmax(lasagne.layers.get_output(l_out, deterministic=True)[-1, :] / temperature)[0]\n",
            "InputLayer\n",
            "EmbeddingLayer\n",
            "(137, 137)\n",
            "LSTMLayer\n",
            "(137, 512)\n",
            "(512, 512)\n",
            "(512,)\n",
            "(137, 512)\n",
            "(512, 512)\n",
            "(512,)\n",
            "(137, 512)\n",
            "(512, 512)\n",
            "(512,)\n",
            "(137, 512)\n",
            "(512, 512)\n",
            "(512,)\n",
            "(1, 512)\n",
            "(1, 512)\n",
            "DropoutLayer\n",
            "LSTMLayer\n",
            "(512, 512)\n",
            "(512, 512)\n",
            "(512,)\n",
            "(512, 512)\n",
            "(512, 512)\n",
            "(512,)\n",
            "(512, 512)\n",
            "(512, 512)\n",
            "(512,)\n",
            "(512, 512)\n",
            "(512, 512)\n",
            "(512,)\n",
            "(1, 512)\n",
            "(1, 512)\n",
            "DropoutLayer\n",
            "LSTMLayer\n",
            "(512, 512)\n",
            "(512, 512)\n",
            "(512,)\n",
            "(512, 512)\n",
            "(512, 512)\n",
            "(512,)\n",
            "(512, 512)\n",
            "(512, 512)\n",
            "(512,)\n",
            "(512, 512)\n",
            "(512, 512)\n",
            "(512,)\n",
            "(1, 512)\n",
            "(1, 512)\n",
            "DropoutLayer\n",
            "ReshapeLayer\n",
            "DenseLayer\n",
            "(512, 137)\n",
            "(137,)\n",
            "number of parameters:  5621722\n",
            "WARNING (theano.tensor.blas): We did not find a dynamic library in the library_dir of the library we use for blas. If you use ATLAS, make sure to compile it with dynamics library.\n",
            "Traceback (most recent call last):\n",
            "  File \"folk-rnn/sample_rnn.py\", line 111, in <module>\n",
            "    next_itoken = rng.choice(vocab_idxs, p=predict(np.array([sequence], dtype='int32')))\n",
            "  File \"/usr/local/lib/python3.6/dist-packages/theano/compile/function_module.py\", line 903, in __call__\n",
            "    self.fn() if output_subset is None else\\\n",
            "  File \"/usr/local/lib/python3.6/dist-packages/theano/scan_module/scan_op.py\", line 963, in rval\n",
            "    r = p(n, [x[0] for x in i], o)\n",
            "  File \"/usr/local/lib/python3.6/dist-packages/theano/scan_module/scan_op.py\", line 952, in p\n",
            "    self, node)\n",
            "  File \"scan_perform.pyx\", line 586, in theano.scan_module.scan_perform.perform\n",
            "  File \"/usr/local/lib/python3.6/dist-packages/theano/tensor/type.py\", line 552, in value_zeros\n",
            "    def value_zeros(self, shape):\n",
            "KeyboardInterrupt\n"
          ],
          "name": "stdout"
        }
      ]
    },
    {
      "cell_type": "code",
      "metadata": {
        "id": "xvUaLvaqKksl",
        "outputId": "aed0921d-c605-46c4-9d7a-ebca9a4dad36",
        "colab": {
          "base_uri": "https://localhost:8080/"
        }
      },
      "source": [
        "import pickle\n",
        "metadata_path = \"folk-rnn/metadata/folkrnn_v2.pkl\"\n",
        "f = open(metadata_path, 'rb')\n",
        "temp = pickle.load(f, encoding=\"bytes\")\n",
        "for key, value in temp.items() :\n",
        "    print (key)#, value)\n",
        "#print(temp[b'configuration'])\n",
        "\n"
      ],
      "execution_count": null,
      "outputs": [
        {
          "output_type": "stream",
          "text": [
            "b'token2idx'\n",
            "b'losses_train'\n",
            "b'epoch_since_start'\n",
            "b'experiment_id'\n",
            "b'losses_eval_valid'\n",
            "b'learning_rate'\n",
            "b'configuration'\n",
            "b'param_values'\n",
            "b'iters_since_start'\n"
          ],
          "name": "stdout"
        }
      ]
    },
    {
      "cell_type": "code",
      "metadata": {
        "id": "MEapflpfLvJy"
      },
      "source": [
        ""
      ],
      "execution_count": null,
      "outputs": []
    }
  ]
}