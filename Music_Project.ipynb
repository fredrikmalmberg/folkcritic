{
 "cells": [
  {
   "cell_type": "code",
   "execution_count": 1,
   "metadata": {
    "colab": {
     "base_uri": "https://localhost:8080/"
    },
    "id": "DPG6YcGZIvmW",
    "outputId": "9631a8f8-d273-4f30-d7b9-d247e77eaf4e"
   },
   "outputs": [
    {
     "name": "stdout",
     "output_type": "stream",
     "text": [
      "/home/fastai/anaconda3/envs/DT2115/bin/python\n"
     ]
    }
   ],
   "source": [
    "!which python"
   ]
  },
  {
   "cell_type": "code",
   "execution_count": null,
   "metadata": {
    "colab": {
     "base_uri": "https://localhost:8080/"
    },
    "id": "XJ52TlbBI4ZZ",
    "outputId": "7c333de9-86c0-4ccc-8490-dc198deb8183"
   },
   "outputs": [],
   "source": []
  },
  {
   "cell_type": "code",
   "execution_count": 22,
   "metadata": {
    "colab": {
     "base_uri": "https://localhost:8080/"
    },
    "id": "cw6mA98mI7X_",
    "outputId": "b62fc4fa-5c73-49db-f5a1-56cfea3300f1"
   },
   "outputs": [
    {
     "name": "stdout",
     "output_type": "stream",
     "text": [
      "Collecting https://github.com/Theano/Theano/archive/master.zip\n",
      "  Using cached https://github.com/Theano/Theano/archive/master.zip\n",
      "Requirement already satisfied, skipping upgrade: numpy>=1.9.1 in /home/fastai/anaconda3/envs/DT2115/lib/python3.8/site-packages (from Theano==1.0.5+unknown) (1.18.5)\n",
      "Collecting scipy>=0.14\n",
      "  Downloading scipy-1.5.4-cp38-cp38-manylinux1_x86_64.whl (25.8 MB)\n",
      "\u001b[K     |████████████████████████████████| 25.8 MB 231 kB/s eta 0:00:01\n",
      "\u001b[?25hRequirement already satisfied, skipping upgrade: six>=1.9.0 in /home/fastai/anaconda3/envs/DT2115/lib/python3.8/site-packages (from Theano==1.0.5+unknown) (1.15.0)\n",
      "Building wheels for collected packages: Theano\n",
      "  Building wheel for Theano (setup.py) ... \u001b[?25ldone\n",
      "\u001b[?25h  Created wheel for Theano: filename=Theano-1.0.5+unknown-py3-none-any.whl size=2667284 sha256=df631260660e9d0709f550f5d41d6c72a7925782e05d331b1e94a08b97291e85\n",
      "  Stored in directory: /tmp/pip-ephem-wheel-cache-_7hdmd34/wheels/53/db/7b/a02c76065f91fa68175d979244872fde47caf9e13a52439834\n",
      "Successfully built Theano\n",
      "Installing collected packages: scipy, Theano\n",
      "Successfully installed Theano-1.0.5+unknown scipy-1.5.4\n"
     ]
    }
   ],
   "source": [
    "!pip install --upgrade https://github.com/Theano/Theano/archive/master.zip"
   ]
  },
  {
   "cell_type": "code",
   "execution_count": 23,
   "metadata": {
    "colab": {
     "base_uri": "https://localhost:8080/"
    },
    "id": "wOCL8Gq_KYtv",
    "outputId": "13229d04-5b11-4274-e722-d52c0c78fe01"
   },
   "outputs": [
    {
     "name": "stdout",
     "output_type": "stream",
     "text": [
      "Collecting https://github.com/Lasagne/Lasagne/archive/master.zip\n",
      "  Using cached https://github.com/Lasagne/Lasagne/archive/master.zip\n",
      "Requirement already satisfied, skipping upgrade: numpy in /home/fastai/anaconda3/envs/DT2115/lib/python3.8/site-packages (from Lasagne==0.2.dev1) (1.18.5)\n",
      "Building wheels for collected packages: Lasagne\n",
      "  Building wheel for Lasagne (setup.py) ... \u001b[?25ldone\n",
      "\u001b[?25h  Created wheel for Lasagne: filename=Lasagne-0.2.dev1-py3-none-any.whl size=122797 sha256=93cdff2f3ab46cf08a6de0e9c87f2e096f7a71055fd50360a7e266693bdd504a\n",
      "  Stored in directory: /tmp/pip-ephem-wheel-cache-wm0fsokq/wheels/e7/44/8b/d8c6a3d95c1f326dc5ae592bc6e596b7cbd6d4ecf7dfae44c3\n",
      "Successfully built Lasagne\n",
      "Installing collected packages: Lasagne\n",
      "Successfully installed Lasagne-0.2.dev1\n"
     ]
    }
   ],
   "source": [
    "!pip install --upgrade https://github.com/Lasagne/Lasagne/archive/master.zip"
   ]
  },
  {
   "cell_type": "code",
   "execution_count": 5,
   "metadata": {
    "colab": {
     "base_uri": "https://localhost:8080/"
    },
    "id": "uQKUW6TeKiM_",
    "outputId": "b55aa40f-dbc5-492c-ab7f-8194324009e0"
   },
   "outputs": [],
   "source": [
    "import os\n",
    "os.environ['THEANO_FLAGS'] = \"device=cuda,dnn.enabled=False, floatX = float32\"   \n",
    "#temp = !python folk-rnn-master/sample_rnn.py --terminal folk-rnn-master/metadata/folkrnn_v2.pkl"
   ]
  },
  {
   "cell_type": "code",
   "execution_count": 31,
   "metadata": {},
   "outputs": [
    {
     "name": "stdout",
     "output_type": "stream",
     "text": [
      "['/home/fastai/anaconda3/envs/DT2115/lib/python3.8/site-packages/theano/configdefaults.py:1952: UserWarning: Theano does not recognise this flag: floatX ', \"  warnings.warn('Theano does not recognise this flag: {0}'.format(key))\", \"WARNING (theano.configdefaults): install mkl with `conda install mkl-service`: No module named 'mkl'\", 'WARNING (theano.tensor.blas): Using NumPy C-API based implementation for BLAS functions.', 'ERROR (theano.gpuarray): pygpu was configured but could not be imported or is too old (version 0.7 or higher required)', 'NoneType: None', 'folk-rnn-master/sample_rnn.py:90: UserWarning: DEPRECATION: If x is a vector, Softmax will not automatically pad x anymore in next releases. If you need it, please do it manually. The vector case is gonna be supported soon and the output will be a vector.', '  predictions = T.nnet.softmax(lasagne.layers.get_output(l_out, deterministic=True)[-1, :] / temperature)[0]', \"d'\", \"<class 'str'>\", '0', \"<class 'int'>\", 'token2idx is: {\"d\\'\": 0, \\'=A,\\': 1, \"^c\\'\": 2, \\'=e\\': 3, \\'=d\\': 4, \\'=g\\': 5, \\'=f\\': 6, \\'=a\\': 7, \\'=c\\': 8, \\'=b\\': 9, \\'_G\\': 10, \\'_E\\': 11, \\'_D\\': 12, \\'_C\\': 13, \\'_B\\': 14, \\'_A\\': 15, \\'2<\\': 16, \\'2>\\': 17, \\'=E\\': 18, \\'=D\\': 19, \\'_B,\\': 20, \\'=F\\': 21, \\'=A\\': 22, \\'4\\': 23, \\'=C\\': 24, \\'=B\\': 25, \\'_g\\': 26, \\'8\\': 27, \\'_e\\': 28, \\'_d\\': 29, \\'_c\\': 30, \\'<\\': 31, \\'_a\\': 32, \\'(9\\': 33, \\'|2\\': 34, \\'D\\': 35, \\'|1\\': 36, \\'(2\\': 37, \\'(3\\': 38, \\'|:\\': 39, \\'(7\\': 40, \\'(4\\': 41, \\'(5\\': 42, \\':|\\': 43, \\'M:3/4\\': 109, \\'3/2\\': 45, \\'3/4\\': 46, \"=f\\'\": 47, \\'2\\': 48, \\'d\\': 49, \\'_E,\\': 50, \\'B,\\': 51, \\'f\\': 94, \\'|\\': 53, \\'^A,\\': 54, \"b\\'\": 55, \"_e\\'\": 56, \\'M:9/8\\': 57, \\'E,\\': 58, \\'</s>\\': 59, \\'3\\': 60, \\'7\\': 61, \\'^F,\\': 62, \\'=G,\\': 63, \\'C\\': 64, \\'G\\': 65, \"e\\'\": 66, \"_d\\'\": 67, \"^f\\'\": 68, \\'[\\': 69, \\'c\\': 71, \\'_A,\\': 97, \\'g\\': 73, \\'^G,\\': 74, \\'=F,\\': 75, \\'K:Cmin\\': 76, \\'K:Cmix\\': 77, \"=c\\'\": 78, \\'C,\\': 79, \\'<s>\\': 80, \\'^D\\': 119, \\'=G\\': 82, \\'M:12/8\\': 83, \\'6\\': 84, \\'=E,\\': 85, \\'K:Cmaj\\': 86, \\'>\\': 87, \\'B\\': 88, \\'F\\': 89, \"c\\'\": 90, \\'^c\\': 132, \\'e\\': 126, \\'5/2\\': 92, \\'b\\': 70, \\'16\\': 52, \"=e\\'\": 95, \\'_b\\': 96, \\'z\\': 72, \\'F,\\': 98, \\'/2>\\': 99, \\'/2<\\': 100, \"f\\'\": 101, \\'M:6/8\\': 102, \\'4>\\': 103, \\'M:4/4\\': 104, \\'A,\\': 105, \\'M:2/4\\': 106, \\'=C,\\': 107, \\'5\\': 108, \\'9\\': 44, \\'M:3/2\\': 111, \\'K:Cdor\\': 112, \\'A\\': 113, \\'E\\': 114, \"a\\'\": 115, \\'(6\\': 116, \\'^A\\': 117, \\'^C\\': 118, \\']\\': 81, \\'^F\\': 120, \\'^G\\': 121, \\'a\\': 122, \"g\\'\": 123, \\'D,\\': 124, \\'/4\\': 125, \\'^C,\\': 91, \\'^d\\': 133, \\'7/2\\': 128, \\'=B,\\': 129, \\'G,\\': 93, \\'/8\\': 130, \\'^a\\': 131, \\'12\\': 110, \\'/3\\': 127, \\'/2\\': 134, \\'^f\\': 135, \\'^g\\': 136}', 'Building the model', 'InputLayer', 'EmbeddingLayer', '(137, 137)', 'LSTMLayer', '(137, 512)', '(512, 512)', '(512,)', '(137, 512)', '(512, 512)', '(512,)', '(137, 512)', '(512, 512)', '(512,)', '(137, 512)', '(512, 512)', '(512,)', '(1, 512)', '(1, 512)', 'DropoutLayer', 'LSTMLayer', '(512, 512)', '(512, 512)', '(512,)', '(512, 512)', '(512, 512)', '(512,)', '(512, 512)', '(512, 512)', '(512,)', '(512, 512)', '(512, 512)', '(512,)', '(1, 512)', '(1, 512)', 'DropoutLayer', 'LSTMLayer', '(512, 512)', '(512, 512)', '(512,)', '(512, 512)', '(512, 512)', '(512,)', '(512, 512)', '(512, 512)', '(512,)', '(512, 512)', '(512, 512)', '(512,)', '(1, 512)', '(1, 512)', 'DropoutLayer', 'ReshapeLayer', 'DenseLayer', '(512, 137)', '(137,)', 'number of parameters:  5621722', 'X:0', 'M:4/4', 'K:Cdor', \"c 3 d c 2 B G | G F F 2 G B c d | c 3 d c B G A | B G G F G 2 f e | d 2 c d c B G A | B G F G B F G F | G B c d c d e f | g b f d e 2 e f | d B B 2 B 2 d c | B G G 2 B G F B | d B B 2 c d e f | g 2 f d g f d c | d g g 2 f d B c | d B B 2 B G B c | d f d c B 2 d B | c B B G F B G B | d 2 c d d 2 f d | g e c d e 2 f g | f d d B c 2 d B | d c c B G B B c | d 2 c d d 2 f d | c d c B c 2 d f | g b b 2 g a b d' | c' d' b g f d d f |\", '']\n"
     ]
    }
   ],
   "source": [
    "print(temp)\n",
    "import mitdeeplearning as mdl"
   ]
  },
  {
   "cell_type": "code",
   "execution_count": null,
   "metadata": {
    "colab": {
     "base_uri": "https://localhost:8080/"
    },
    "id": "xvUaLvaqKksl",
    "outputId": "aed0921d-c605-46c4-9d7a-ebca9a4dad36"
   },
   "outputs": [
    {
     "name": "stdout",
     "output_type": "stream",
     "text": [
      "b'token2idx'\n",
      "b'losses_train'\n",
      "b'epoch_since_start'\n",
      "b'experiment_id'\n",
      "b'losses_eval_valid'\n",
      "b'learning_rate'\n",
      "b'configuration'\n",
      "b'param_values'\n",
      "b'iters_since_start'\n"
     ]
    }
   ],
   "source": [
    "import pickle\n",
    "metadata_path = \"folk-rnn/metadata/folkrnn_v2.pkl\"\n",
    "f = open(metadata_path, 'rb')\n",
    "temp = pickle.load(f, encoding=\"bytes\")\n",
    "for key, value in temp.items() :\n",
    "    print (key)#, value)\n",
    "#print(temp[b'configuration'])\n",
    "\n"
   ]
  },
  {
   "cell_type": "code",
   "execution_count": 26,
   "metadata": {
    "id": "MEapflpfLvJy"
   },
   "outputs": [],
   "source": [
    "song = open('samples/config5-wrepeats-20160112-222521-s42-1.00-20201110-202300.txt', 'r')\n",
    "s = ''\n"
   ]
  },
  {
   "cell_type": "code",
   "execution_count": 23,
   "metadata": {},
   "outputs": [
    {
     "name": "stdout",
     "output_type": "stream",
     "text": [
      "M:3/4\n",
      "\n",
      "K:Cmaj\n",
      "\n",
      "=B, 2 | C E B, D C B, | A, G, F, E, D, C, | F, A, C G, F, D, | A, C, G, B, C B, | C G, E, F, G, A, | B, G, B, D z F | E G e f =d e | c 4 :| c G | F E D 2 E C | D c B G A F | E E F D E F | D C B, 2 G, 2 | B, C D G, G, D | C F E D C C | B, A, G, F E D | C 3 :|\n",
      "\n",
      "\n",
      "\n",
      "M:4/4\n",
      "\n",
      "K:Cmin\n",
      "\n",
      "d | c B G F G c c B | G c c 2 e c c B | G c c B G B c e | d B f B g B f B | G c c B G F G A | c d c B G c c B | c d e f g b f g | b g f d d c c :| f | g b b 2 g c' c' 2 | b g f d d c c e | g b b 2 g 2 f b | d B d c B 2 c B | G c c 2 d f f 2 | g b f d e f g b | c' b g f d e f d | g 2 f d B c c :|\n",
      "\n",
      "\n",
      "\n",
      "M:4/4\n",
      "\n",
      "K:Cdor\n",
      "\n",
      "M:3/4\n",
      "K:Cmaj\n",
      "=B, 2 | C E B, D C B, | A, G, F, E, D, C, | F, A, C G, F, D, | A, C, G, B, C B, | C G, E, F, G, A, | B, G, B, D z F | E G e f =d e | c 4 :| c G | F E D 2 E C | D c B G A F | E E F D E F | D C B, 2 G, 2 | B, C D G, G, D | C F E D C C | B, A, G, F E D | C 3 :|\n",
      "\n",
      "M:4/4\n",
      "K:Cmin\n",
      "d | c B G F G c c B | G c c 2 e c c B | G c c B G B c e | d B f B g B f B | G c c B G F G A | c d c B G c c B | c d e f g b f g | b g f d d c c :| f | g b b 2 g c' c' 2 | b g f d d c c e | g b b 2 g 2 f b | d B d c B 2 c B | G c c 2 d f f 2 | g b f d e f g b | c' b g f d e f d | g 2 f d B c c :|\n",
      "\n",
      "M:4/4\n",
      "K:Cdor\n",
      "\n"
     ]
    }
   ],
   "source": [
    "i = 0\n",
    "for lines in song:\n",
    "    if i <10:\n",
    "        s += lines\n",
    "        print(lines)\n",
    "    i += 1\n",
    "    \n",
    "    \n",
    "print(s)"
   ]
  },
  {
   "cell_type": "code",
   "execution_count": 71,
   "metadata": {},
   "outputs": [
    {
     "ename": "AttributeError",
     "evalue": "module 'mitdeeplearning' has no attribute 'lab1'",
     "output_type": "error",
     "traceback": [
      "\u001b[0;31m---------------------------------------------------------------------------\u001b[0m",
      "\u001b[0;31mAttributeError\u001b[0m                            Traceback (most recent call last)",
      "\u001b[0;32m<ipython-input-71-042015761a8a>\u001b[0m in \u001b[0;36m<module>\u001b[0;34m\u001b[0m\n\u001b[1;32m      1\u001b[0m \u001b[0;31m# Download the dataset\u001b[0m\u001b[0;34m\u001b[0m\u001b[0;34m\u001b[0m\u001b[0;34m\u001b[0m\u001b[0m\n\u001b[0;32m----> 2\u001b[0;31m \u001b[0msongs\u001b[0m \u001b[0;34m=\u001b[0m \u001b[0mmdl\u001b[0m\u001b[0;34m.\u001b[0m\u001b[0mlab1\u001b[0m\u001b[0;34m.\u001b[0m\u001b[0mload_training_data\u001b[0m\u001b[0;34m(\u001b[0m\u001b[0;34m)\u001b[0m\u001b[0;34m\u001b[0m\u001b[0;34m\u001b[0m\u001b[0m\n\u001b[0m\u001b[1;32m      3\u001b[0m \u001b[0;34m\u001b[0m\u001b[0m\n\u001b[1;32m      4\u001b[0m \u001b[0;31m# Print one of the songs to inspect it in greater detail!\u001b[0m\u001b[0;34m\u001b[0m\u001b[0;34m\u001b[0m\u001b[0;34m\u001b[0m\u001b[0m\n\u001b[1;32m      5\u001b[0m \u001b[0mexample_song\u001b[0m \u001b[0;34m=\u001b[0m \u001b[0msongs\u001b[0m\u001b[0;34m[\u001b[0m\u001b[0;36m0\u001b[0m\u001b[0;34m]\u001b[0m\u001b[0;34m\u001b[0m\u001b[0;34m\u001b[0m\u001b[0m\n",
      "\u001b[0;31mAttributeError\u001b[0m: module 'mitdeeplearning' has no attribute 'lab1'"
     ]
    }
   ],
   "source": [
    "# Download the dataset\n",
    "songs = mdl.lab1.load_training_data()\n",
    "\n",
    "# Print one of the songs to inspect it in greater detail!\n",
    "example_song = songs[0]"
   ]
  },
  {
   "cell_type": "code",
   "execution_count": 13,
   "metadata": {},
   "outputs": [],
   "source": [
    "save_song_to_abc(s)\n",
    "path_to_tool = os.path.join('abc2wav')\n",
    "cmd = \"{} {}\".format('abc2wav', 'tmp.abc')\n",
    "temp = os.system(cmd)"
   ]
  },
  {
   "cell_type": "code",
   "execution_count": 29,
   "metadata": {},
   "outputs": [
    {
     "name": "stdout",
     "output_type": "stream",
     "text": [
      "3.87 January 03 2016 abc2midi\n",
      "Error in line-char 4-2 : Unrecognized character: 3\n",
      "Error in line-char 4-8 : Unrecognized character: 2\n",
      "Error in line-char 4-22 : Unrecognized character: 2\n",
      "Error in line-char 4-36 : Unrecognized character: 3\n",
      "Error in line-char 4-60 : Unrecognized character: 2\n",
      "Error in line-char 4-70 : Unrecognized character: 2\n",
      "Error in line-char 4-132 : Unrecognized character: 2\n",
      "Error in line-char 4-146 : Unrecognized character: 2\n",
      "Error in line-char 4-150 : Unrecognized character: 2\n",
      "Error in line-char 4-164 : Unrecognized character: 2\n",
      "Error in line-char 4-182 : Unrecognized character: 2\n",
      "Error in line-char 4-196 : Unrecognized character: 2\n",
      "Error in line-char 4-218 : Unrecognized character: 2\n",
      "Error in line-char 4-236 : Unrecognized character: 2\n",
      "Error in line-char 4-258 : Unrecognized character: 2\n",
      "Error in line-char 4-286 : Unrecognized character: 2\n",
      "Error in line-char 4-294 : Unrecognized character: 2\n",
      "Error in line-char 4-312 : Unrecognized character: 2\n",
      "Error in line-char 4-330 : Unrecognized character: 2\n",
      "Error in line-char 4-358 : Unrecognized character: 2\n",
      "Error in line-char 4-366 : Unrecognized character: 2\n",
      "Error in line-char 4-384 : Unrecognized character: 2\n",
      "Error in line-char 4-398 : Unrecognized character: 2\n",
      "writing MIDI file .mid\n",
      "Warning in line-char 4-32 : Track 0 Bar 1 has 7/2 units instead of 4\n",
      "Warning in line-char 4-48 : Track 0 Bar 2 has 3 units instead of 4\n",
      "Warning in line-char 4-66 : Track 0 Bar 3 has 7/2 units instead of 4\n",
      "Warning in line-char 4-84 : Track 0 Bar 4 has 7/2 units instead of 4\n",
      "Warning in line-char 4-138 : Track 0 Bar 7 has 7/2 units instead of 4\n",
      "Warning in line-char 4-156 : Track 0 Bar 8 has 3 units instead of 4\n",
      "Warning in line-char 4-174 : Track 0 Bar 9 has 7/2 units instead of 4\n",
      "Warning in line-char 4-192 : Track 0 Bar 10 has 7/2 units instead of 4\n",
      "Warning in line-char 4-210 : Track 0 Bar 11 has 7/2 units instead of 4\n",
      "Warning in line-char 4-228 : Track 0 Bar 12 has 7/2 units instead of 4\n",
      "Warning in line-char 4-246 : Track 0 Bar 13 has 7/2 units instead of 4\n",
      "Warning in line-char 4-264 : Track 0 Bar 14 has 7/2 units instead of 4\n",
      "Warning in line-char 4-300 : Track 0 Bar 16 has 3 units instead of 4\n",
      "Warning in line-char 4-318 : Track 0 Bar 17 has 7/2 units instead of 4\n",
      "Warning in line-char 4-336 : Track 0 Bar 18 has 7/2 units instead of 4\n",
      "Warning in line-char 4-372 : Track 0 Bar 20 has 3 units instead of 4\n",
      "Warning in line-char 4-390 : Track 0 Bar 21 has 7/2 units instead of 4\n",
      "Warning in line-char 4-409 : Track 0 Bar 22 has 7/2 units instead of 4\n"
     ]
    }
   ],
   "source": [
    "!abc2midi samples/tmp2.abc -o \"$suffix.mid\""
   ]
  },
  {
   "cell_type": "code",
   "execution_count": 6,
   "metadata": {},
   "outputs": [],
   "source": [
    "cwd = os.path.dirname('')\n",
    "\n",
    "from IPython.display import Audio\n",
    "def save_song_to_abc(song, filename=\"tmp\"):\n",
    "    save_name = \"{}.abc\".format(filename)\n",
    "    with open(save_name, \"w\") as f:\n",
    "        f.write(song)\n",
    "    return filename\n",
    "\n",
    "def abc2wav(abc_file):\n",
    "    path_to_tool = os.path.join(cwd, 'bin', 'abc2wav')\n",
    "    cmd = \"{} {}\".format(path_to_tool, abc_file)\n",
    "    return os.system(cmd)\n",
    "\n",
    "def play_wav(wav_file):\n",
    "    return Audio(wav_file)\n",
    "\n",
    "def play_song(song):\n",
    "    basename = save_song_to_abc(song)\n",
    "    ret = abc2wav(basename+'.abc')\n",
    "    if ret == 0: #did not suceed\n",
    "        return play_wav(basename+'.wav')\n",
    "    return None"
   ]
  },
  {
   "cell_type": "code",
   "execution_count": 27,
   "metadata": {},
   "outputs": [
    {
     "data": {
      "text/plain": [
       "32512"
      ]
     },
     "execution_count": 27,
     "metadata": {},
     "output_type": "execute_result"
    }
   ],
   "source": [
    "abc2wav('samples/config5-wrepeats-20160112-222521-s42-1.00-20201110-202300.txt')"
   ]
  },
  {
   "cell_type": "code",
   "execution_count": null,
   "metadata": {},
   "outputs": [],
   "source": []
  }
 ],
 "metadata": {
  "colab": {
   "collapsed_sections": [],
   "name": "Music Project.ipynb",
   "provenance": []
  },
  "kernelspec": {
   "display_name": "Python 3",
   "language": "python",
   "name": "python3"
  },
  "language_info": {
   "codemirror_mode": {
    "name": "ipython",
    "version": 3
   },
   "file_extension": ".py",
   "mimetype": "text/x-python",
   "name": "python",
   "nbconvert_exporter": "python",
   "pygments_lexer": "ipython3",
   "version": "3.8.6"
  }
 },
 "nbformat": 4,
 "nbformat_minor": 4
}
